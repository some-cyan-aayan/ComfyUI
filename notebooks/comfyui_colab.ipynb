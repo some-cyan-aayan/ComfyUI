{
  "cells": [
    {
      "cell_type": "markdown",
      "metadata": {
        "id": "aaaaaaaaaa"
      },
      "source": [
        "Git clone the repo and install the requirements. (ignore the pip errors about protobuf)"
      ]
    },
    {
      "cell_type": "code",
      "execution_count": 1,
      "metadata": {
        "id": "bbbbbbbbbb",
        "outputId": "fa14c9b4-5b7d-4a5b-a0d5-4f33452f876d",
        "colab": {
          "base_uri": "https://localhost:8080/"
        }
      },
      "outputs": [
        {
          "output_type": "stream",
          "name": "stdout",
          "text": [
            "-= Initial setup ComfyUI =-\n",
            "Cloning into 'ComfyUI'...\n",
            "remote: Enumerating objects: 8657, done.\u001b[K\n",
            "remote: Counting objects: 100% (3345/3345), done.\u001b[K\n",
            "remote: Compressing objects: 100% (284/284), done.\u001b[K\n",
            "remote: Total 8657 (delta 3140), reused 3089 (delta 3061), pack-reused 5312\u001b[K\n",
            "Receiving objects: 100% (8657/8657), 3.45 MiB | 17.22 MiB/s, done.\n",
            "Resolving deltas: 100% (5844/5844), done.\n",
            "/content/ComfyUI\n",
            "-= Updating ComfyUI =-\n",
            "Already up to date.\n",
            "-= Install dependencies =-\n",
            "Looking in indexes: https://pypi.org/simple, https://download.pytorch.org/whl/cu121, https://download.pytorch.org/whl/cu118, https://download.pytorch.org/whl/cu117\n",
            "Collecting xformers!=0.0.18\n",
            "  Downloading https://download.pytorch.org/whl/cu118/xformers-0.0.22.post7%2Bcu118-cp310-cp310-manylinux2014_x86_64.whl (211.5 MB)\n",
            "\u001b[2K     \u001b[90m━━━━━━━━━━━━━━━━━━━━━━━━━━━━━━━━━━━━━━━━\u001b[0m \u001b[32m211.5/211.5 MB\u001b[0m \u001b[31m4.8 MB/s\u001b[0m eta \u001b[36m0:00:00\u001b[0m\n",
            "\u001b[?25hRequirement already satisfied: torch in /usr/local/lib/python3.10/dist-packages (from -r requirements.txt (line 1)) (2.1.0+cu118)\n",
            "Collecting torchsde (from -r requirements.txt (line 2))\n",
            "  Downloading torchsde-0.2.6-py3-none-any.whl (61 kB)\n",
            "\u001b[2K     \u001b[90m━━━━━━━━━━━━━━━━━━━━━━━━━━━━━━━━━━━━━━━━\u001b[0m \u001b[32m61.2/61.2 kB\u001b[0m \u001b[31m1.4 MB/s\u001b[0m eta \u001b[36m0:00:00\u001b[0m\n",
            "\u001b[?25hCollecting einops (from -r requirements.txt (line 3))\n",
            "  Downloading einops-0.7.0-py3-none-any.whl (44 kB)\n",
            "\u001b[2K     \u001b[90m━━━━━━━━━━━━━━━━━━━━━━━━━━━━━━━━━━━━━━━━\u001b[0m \u001b[32m44.6/44.6 kB\u001b[0m \u001b[31m4.0 MB/s\u001b[0m eta \u001b[36m0:00:00\u001b[0m\n",
            "\u001b[?25hRequirement already satisfied: transformers>=4.25.1 in /usr/local/lib/python3.10/dist-packages (from -r requirements.txt (line 4)) (4.35.2)\n",
            "Requirement already satisfied: safetensors>=0.3.0 in /usr/local/lib/python3.10/dist-packages (from -r requirements.txt (line 5)) (0.4.0)\n",
            "Requirement already satisfied: aiohttp in /usr/local/lib/python3.10/dist-packages (from -r requirements.txt (line 6)) (3.8.6)\n",
            "Collecting accelerate (from -r requirements.txt (line 7))\n",
            "  Downloading accelerate-0.24.1-py3-none-any.whl (261 kB)\n",
            "\u001b[2K     \u001b[90m━━━━━━━━━━━━━━━━━━━━━━━━━━━━━━━━━━━━━━━━\u001b[0m \u001b[32m261.4/261.4 kB\u001b[0m \u001b[31m10.6 MB/s\u001b[0m eta \u001b[36m0:00:00\u001b[0m\n",
            "\u001b[?25hRequirement already satisfied: pyyaml in /usr/local/lib/python3.10/dist-packages (from -r requirements.txt (line 8)) (6.0.1)\n",
            "Requirement already satisfied: Pillow in /usr/local/lib/python3.10/dist-packages (from -r requirements.txt (line 9)) (9.4.0)\n",
            "Requirement already satisfied: scipy in /usr/local/lib/python3.10/dist-packages (from -r requirements.txt (line 10)) (1.11.3)\n",
            "Requirement already satisfied: tqdm in /usr/local/lib/python3.10/dist-packages (from -r requirements.txt (line 11)) (4.66.1)\n",
            "Requirement already satisfied: psutil in /usr/local/lib/python3.10/dist-packages (from -r requirements.txt (line 12)) (5.9.5)\n",
            "Requirement already satisfied: numpy in /usr/local/lib/python3.10/dist-packages (from xformers!=0.0.18) (1.23.5)\n",
            "Requirement already satisfied: filelock in /usr/local/lib/python3.10/dist-packages (from torch->-r requirements.txt (line 1)) (3.13.1)\n",
            "Requirement already satisfied: typing-extensions in /usr/local/lib/python3.10/dist-packages (from torch->-r requirements.txt (line 1)) (4.5.0)\n",
            "Requirement already satisfied: sympy in /usr/local/lib/python3.10/dist-packages (from torch->-r requirements.txt (line 1)) (1.12)\n",
            "Requirement already satisfied: networkx in /usr/local/lib/python3.10/dist-packages (from torch->-r requirements.txt (line 1)) (3.2.1)\n",
            "Requirement already satisfied: jinja2 in /usr/local/lib/python3.10/dist-packages (from torch->-r requirements.txt (line 1)) (3.1.2)\n",
            "Requirement already satisfied: fsspec in /usr/local/lib/python3.10/dist-packages (from torch->-r requirements.txt (line 1)) (2023.6.0)\n",
            "Requirement already satisfied: triton==2.1.0 in /usr/local/lib/python3.10/dist-packages (from torch->-r requirements.txt (line 1)) (2.1.0)\n",
            "Collecting trampoline>=0.1.2 (from torchsde->-r requirements.txt (line 2))\n",
            "  Downloading trampoline-0.1.2-py3-none-any.whl (5.2 kB)\n",
            "Requirement already satisfied: huggingface-hub<1.0,>=0.16.4 in /usr/local/lib/python3.10/dist-packages (from transformers>=4.25.1->-r requirements.txt (line 4)) (0.19.4)\n",
            "Requirement already satisfied: packaging>=20.0 in /usr/local/lib/python3.10/dist-packages (from transformers>=4.25.1->-r requirements.txt (line 4)) (23.2)\n",
            "Requirement already satisfied: regex!=2019.12.17 in /usr/local/lib/python3.10/dist-packages (from transformers>=4.25.1->-r requirements.txt (line 4)) (2023.6.3)\n",
            "Requirement already satisfied: requests in /usr/local/lib/python3.10/dist-packages (from transformers>=4.25.1->-r requirements.txt (line 4)) (2.31.0)\n",
            "Requirement already satisfied: tokenizers<0.19,>=0.14 in /usr/local/lib/python3.10/dist-packages (from transformers>=4.25.1->-r requirements.txt (line 4)) (0.15.0)\n",
            "Requirement already satisfied: attrs>=17.3.0 in /usr/local/lib/python3.10/dist-packages (from aiohttp->-r requirements.txt (line 6)) (23.1.0)\n",
            "Requirement already satisfied: charset-normalizer<4.0,>=2.0 in /usr/local/lib/python3.10/dist-packages (from aiohttp->-r requirements.txt (line 6)) (3.3.2)\n",
            "Requirement already satisfied: multidict<7.0,>=4.5 in /usr/local/lib/python3.10/dist-packages (from aiohttp->-r requirements.txt (line 6)) (6.0.4)\n",
            "Requirement already satisfied: async-timeout<5.0,>=4.0.0a3 in /usr/local/lib/python3.10/dist-packages (from aiohttp->-r requirements.txt (line 6)) (4.0.3)\n",
            "Requirement already satisfied: yarl<2.0,>=1.0 in /usr/local/lib/python3.10/dist-packages (from aiohttp->-r requirements.txt (line 6)) (1.9.2)\n",
            "Requirement already satisfied: frozenlist>=1.1.1 in /usr/local/lib/python3.10/dist-packages (from aiohttp->-r requirements.txt (line 6)) (1.4.0)\n",
            "Requirement already satisfied: aiosignal>=1.1.2 in /usr/local/lib/python3.10/dist-packages (from aiohttp->-r requirements.txt (line 6)) (1.3.1)\n",
            "Requirement already satisfied: idna>=2.0 in /usr/local/lib/python3.10/dist-packages (from yarl<2.0,>=1.0->aiohttp->-r requirements.txt (line 6)) (3.4)\n",
            "Requirement already satisfied: MarkupSafe>=2.0 in /usr/local/lib/python3.10/dist-packages (from jinja2->torch->-r requirements.txt (line 1)) (2.1.3)\n",
            "Requirement already satisfied: urllib3<3,>=1.21.1 in /usr/local/lib/python3.10/dist-packages (from requests->transformers>=4.25.1->-r requirements.txt (line 4)) (2.0.7)\n",
            "Requirement already satisfied: certifi>=2017.4.17 in /usr/local/lib/python3.10/dist-packages (from requests->transformers>=4.25.1->-r requirements.txt (line 4)) (2023.7.22)\n",
            "Requirement already satisfied: mpmath>=0.19 in /usr/local/lib/python3.10/dist-packages (from sympy->torch->-r requirements.txt (line 1)) (1.3.0)\n",
            "Installing collected packages: trampoline, einops, xformers, torchsde, accelerate\n",
            "Successfully installed accelerate-0.24.1 einops-0.7.0 torchsde-0.2.6 trampoline-0.1.2 xformers-0.0.22.post7+cu118\n"
          ]
        }
      ],
      "source": [
        "#@title Environment Setup\n",
        "\n",
        "from pathlib import Path\n",
        "\n",
        "OPTIONS = {}\n",
        "\n",
        "USE_GOOGLE_DRIVE = False  #@param {type:\"boolean\"}\n",
        "UPDATE_COMFY_UI = True  #@param {type:\"boolean\"}\n",
        "WORKSPACE = 'ComfyUI'\n",
        "OPTIONS['USE_GOOGLE_DRIVE'] = USE_GOOGLE_DRIVE\n",
        "OPTIONS['UPDATE_COMFY_UI'] = UPDATE_COMFY_UI\n",
        "\n",
        "if OPTIONS['USE_GOOGLE_DRIVE']:\n",
        "    !echo \"Mounting Google Drive...\"\n",
        "    %cd /\n",
        "\n",
        "    from google.colab import drive\n",
        "    drive.mount('/content/drive')\n",
        "\n",
        "    WORKSPACE = \"/content/drive/MyDrive/ComfyUI\"\n",
        "    %cd /content/drive/MyDrive\n",
        "\n",
        "![ ! -d $WORKSPACE ] && echo -= Initial setup ComfyUI =- && git clone https://github.com/comfyanonymous/ComfyUI\n",
        "%cd $WORKSPACE\n",
        "\n",
        "if OPTIONS['UPDATE_COMFY_UI']:\n",
        "  !echo -= Updating ComfyUI =-\n",
        "  !git pull\n",
        "\n",
        "!echo -= Install dependencies =-\n",
        "!pip install xformers!=0.0.18 -r requirements.txt --extra-index-url https://download.pytorch.org/whl/cu121 --extra-index-url https://download.pytorch.org/whl/cu118 --extra-index-url https://download.pytorch.org/whl/cu117"
      ]
    },
    {
      "cell_type": "markdown",
      "metadata": {
        "id": "cccccccccc"
      },
      "source": [
        "Download some models/checkpoints/vae or custom comfyui nodes (uncomment the commands for the ones you want)"
      ]
    },
    {
      "cell_type": "markdown",
      "source": [
        "### Install ComfyUI_IPAdapter_plus\n",
        "\n",
        "source:  https://github.com/cubiq/ComfyUI_IPAdapter_plus/tree/main"
      ],
      "metadata": {
        "id": "38Au_MnITKDg"
      }
    },
    {
      "cell_type": "code",
      "source": [
        "![ -d ./custom_nodes ] && cd ./custom_nodes/ && git clone https://github.com/cubiq/ComfyUI_IPAdapter_plus.git"
      ],
      "metadata": {
        "id": "gZ8_XWfvuXus",
        "outputId": "a2c1809d-cacf-4e6a-d42c-8f7468272658",
        "colab": {
          "base_uri": "https://localhost:8080/"
        }
      },
      "execution_count": 3,
      "outputs": [
        {
          "output_type": "stream",
          "name": "stdout",
          "text": [
            "Cloning into 'ComfyUI_IPAdapter_plus'...\n",
            "remote: Enumerating objects: 272, done.\u001b[K\n",
            "remote: Counting objects: 100% (41/41), done.\u001b[K\n",
            "remote: Compressing objects: 100% (7/7), done.\u001b[K\n",
            "remote: Total 272 (delta 39), reused 34 (delta 34), pack-reused 231\u001b[K\n",
            "Receiving objects: 100% (272/272), 3.62 MiB | 11.74 MiB/s, done.\n",
            "Resolving deltas: 100% (173/173), done.\n"
          ]
        }
      ]
    },
    {
      "cell_type": "code",
      "source": [
        "# download pre-trained models\n",
        "!wget -P ./models/ipadapter -c https://huggingface.co/h94/IP-Adapter/resolve/main/sdxl_models/ip-adapter-plus-face_sdxl_vit-h.safetensors\n",
        "!wget -P ./models/ipadapter -c https://huggingface.co/h94/IP-Adapter/resolve/main/sdxl_models/ip-adapter-plus_sdxl_vit-h.safetensors\n",
        "!wget -P ./models/ipadapter -c https://huggingface.co/h94/IP-Adapter/resolve/main/sdxl_models/ip-adapter_sdxl.safetensors\n",
        "!wget -P ./models/ipadapter -c https://huggingface.co/h94/IP-Adapter/resolve/main/sdxl_models/ip-adapter_sdxl_vit-h.safetensors"
      ],
      "metadata": {
        "id": "4b4SxObavGUH",
        "outputId": "cc2c99f9-6249-48ba-aefa-a94cf51118a6",
        "colab": {
          "base_uri": "https://localhost:8080/"
        }
      },
      "execution_count": 4,
      "outputs": [
        {
          "output_type": "stream",
          "name": "stdout",
          "text": [
            "--2023-11-30 15:03:06--  https://huggingface.co/h94/IP-Adapter/resolve/main/sdxl_models/ip-adapter-plus-face_sdxl_vit-h.safetensors\n",
            "Resolving huggingface.co (huggingface.co)... 65.8.178.93, 65.8.178.27, 65.8.178.118, ...\n",
            "Connecting to huggingface.co (huggingface.co)|65.8.178.93|:443... connected.\n",
            "HTTP request sent, awaiting response... 302 Found\n",
            "Location: https://cdn-lfs.huggingface.co/repos/6f/e5/6fe5d8840a1ab462e1b9f52fbeabac6bb30febaf56fb5a439f08cca6d1cf4372/677ad8860204f7d0bfba12d29e6c31ded9beefdf3e4bbd102518357d31a292c1?response-content-disposition=attachment%3B+filename*%3DUTF-8%27%27ip-adapter-plus-face_sdxl_vit-h.safetensors%3B+filename%3D%22ip-adapter-plus-face_sdxl_vit-h.safetensors%22%3B&Expires=1701615786&Policy=eyJTdGF0ZW1lbnQiOlt7IkNvbmRpdGlvbiI6eyJEYXRlTGVzc1RoYW4iOnsiQVdTOkVwb2NoVGltZSI6MTcwMTYxNTc4Nn19LCJSZXNvdXJjZSI6Imh0dHBzOi8vY2RuLWxmcy5odWdnaW5nZmFjZS5jby9yZXBvcy82Zi9lNS82ZmU1ZDg4NDBhMWFiNDYyZTFiOWY1MmZiZWFiYWM2YmIzMGZlYmFmNTZmYjVhNDM5ZjA4Y2NhNmQxY2Y0MzcyLzY3N2FkODg2MDIwNGY3ZDBiZmJhMTJkMjllNmMzMWRlZDliZWVmZGYzZTRiYmQxMDI1MTgzNTdkMzFhMjkyYzE%7EcmVzcG9uc2UtY29udGVudC1kaXNwb3NpdGlvbj0qIn1dfQ__&Signature=Tf0w5et%7ErL3HCFFfSbprETr0GNfVmN72kPiXe%7E9O-CwdYjiCG4Pl6SuQQf-8grNbYAsoSPpEILGB5CfB0WDP17JHLljmihyUQZUAUJf21SH6C7n5c%7EvZJ24fTlF7wv7vxBO1DB4B-rKK7QLimH37nCSUAENVbXM%7E9E4crhIO37S-LCRTFmdGPT-pe2Ub1HeoHWqACTUAWZoJnfMuTrDwHtXCC21AYeGJf30MFh4jXVGtPghctpBe6Hf2TeBFVglQf7uxpNQAmf41ctzTt8EjYaYHus%7ExyPSUeVXpWlkWjRkD8VAQVoUdxxq-hOQo5cQIhJObSNbi2QMoawjVUU-WGQ__&Key-Pair-Id=KVTP0A1DKRTAX [following]\n",
            "--2023-11-30 15:03:06--  https://cdn-lfs.huggingface.co/repos/6f/e5/6fe5d8840a1ab462e1b9f52fbeabac6bb30febaf56fb5a439f08cca6d1cf4372/677ad8860204f7d0bfba12d29e6c31ded9beefdf3e4bbd102518357d31a292c1?response-content-disposition=attachment%3B+filename*%3DUTF-8%27%27ip-adapter-plus-face_sdxl_vit-h.safetensors%3B+filename%3D%22ip-adapter-plus-face_sdxl_vit-h.safetensors%22%3B&Expires=1701615786&Policy=eyJTdGF0ZW1lbnQiOlt7IkNvbmRpdGlvbiI6eyJEYXRlTGVzc1RoYW4iOnsiQVdTOkVwb2NoVGltZSI6MTcwMTYxNTc4Nn19LCJSZXNvdXJjZSI6Imh0dHBzOi8vY2RuLWxmcy5odWdnaW5nZmFjZS5jby9yZXBvcy82Zi9lNS82ZmU1ZDg4NDBhMWFiNDYyZTFiOWY1MmZiZWFiYWM2YmIzMGZlYmFmNTZmYjVhNDM5ZjA4Y2NhNmQxY2Y0MzcyLzY3N2FkODg2MDIwNGY3ZDBiZmJhMTJkMjllNmMzMWRlZDliZWVmZGYzZTRiYmQxMDI1MTgzNTdkMzFhMjkyYzE%7EcmVzcG9uc2UtY29udGVudC1kaXNwb3NpdGlvbj0qIn1dfQ__&Signature=Tf0w5et%7ErL3HCFFfSbprETr0GNfVmN72kPiXe%7E9O-CwdYjiCG4Pl6SuQQf-8grNbYAsoSPpEILGB5CfB0WDP17JHLljmihyUQZUAUJf21SH6C7n5c%7EvZJ24fTlF7wv7vxBO1DB4B-rKK7QLimH37nCSUAENVbXM%7E9E4crhIO37S-LCRTFmdGPT-pe2Ub1HeoHWqACTUAWZoJnfMuTrDwHtXCC21AYeGJf30MFh4jXVGtPghctpBe6Hf2TeBFVglQf7uxpNQAmf41ctzTt8EjYaYHus%7ExyPSUeVXpWlkWjRkD8VAQVoUdxxq-hOQo5cQIhJObSNbi2QMoawjVUU-WGQ__&Key-Pair-Id=KVTP0A1DKRTAX\n",
            "Resolving cdn-lfs.huggingface.co (cdn-lfs.huggingface.co)... 108.157.162.27, 108.157.162.95, 108.157.162.58, ...\n",
            "Connecting to cdn-lfs.huggingface.co (cdn-lfs.huggingface.co)|108.157.162.27|:443... connected.\n",
            "HTTP request sent, awaiting response... 200 OK\n",
            "Length: 847517512 (808M) [application/octet-stream]\n",
            "Saving to: ‘./models/ipadapter/ip-adapter-plus-face_sdxl_vit-h.safetensors’\n",
            "\n",
            "ip-adapter-plus-fac 100%[===================>] 808.25M  31.4MB/s    in 25s     \n",
            "\n",
            "2023-11-30 15:03:32 (32.0 MB/s) - ‘./models/ipadapter/ip-adapter-plus-face_sdxl_vit-h.safetensors’ saved [847517512/847517512]\n",
            "\n",
            "--2023-11-30 15:03:32--  https://huggingface.co/h94/IP-Adapter/resolve/main/sdxl_models/ip-adapter-plus_sdxl_vit-h.safetensors\n",
            "Resolving huggingface.co (huggingface.co)... 65.8.178.93, 65.8.178.27, 65.8.178.118, ...\n",
            "Connecting to huggingface.co (huggingface.co)|65.8.178.93|:443... connected.\n",
            "HTTP request sent, awaiting response... 302 Found\n",
            "Location: https://cdn-lfs.huggingface.co/repos/6f/e5/6fe5d8840a1ab462e1b9f52fbeabac6bb30febaf56fb5a439f08cca6d1cf4372/3f5062b8400c94b7159665b21ba5c62acdcd7682262743d7f2aefedef00e6581?response-content-disposition=attachment%3B+filename*%3DUTF-8%27%27ip-adapter-plus_sdxl_vit-h.safetensors%3B+filename%3D%22ip-adapter-plus_sdxl_vit-h.safetensors%22%3B&Expires=1701615812&Policy=eyJTdGF0ZW1lbnQiOlt7IkNvbmRpdGlvbiI6eyJEYXRlTGVzc1RoYW4iOnsiQVdTOkVwb2NoVGltZSI6MTcwMTYxNTgxMn19LCJSZXNvdXJjZSI6Imh0dHBzOi8vY2RuLWxmcy5odWdnaW5nZmFjZS5jby9yZXBvcy82Zi9lNS82ZmU1ZDg4NDBhMWFiNDYyZTFiOWY1MmZiZWFiYWM2YmIzMGZlYmFmNTZmYjVhNDM5ZjA4Y2NhNmQxY2Y0MzcyLzNmNTA2MmI4NDAwYzk0YjcxNTk2NjViMjFiYTVjNjJhY2RjZDc2ODIyNjI3NDNkN2YyYWVmZWRlZjAwZTY1ODE%7EcmVzcG9uc2UtY29udGVudC1kaXNwb3NpdGlvbj0qIn1dfQ__&Signature=o0rr-s4h20YwT4jEphrc6wrA0rTeNHHdIg9TxlHWMBtRPWLFKZWXMFlgjqOfqhoqWY97kz9i8ApXpjJJSg6hF4paky6ux%7Eg-0AFPnomtGIVdmK3ys%7EGb%7EonnHGKi9iN5xfIXa6AO5HDvtNnab26%7Ex4CxJRj%7EIi8TXM38Vj-DsIiopMh5Ut21umkQRFWYM7DTQZvam0-atHEOEHQET5x72WUZUginX6ZMuxKF3JFNLv8DzwqOTjE45XGYAoSGKuE6V6%7EzSd8Gda9gnxomAsr039MLlIjlMSZzl6B2FTh8WYpdCNZ-IEyOGd%7Ehv65Aua5HKUWwwNo4ODIaBOSLqd7e9A__&Key-Pair-Id=KVTP0A1DKRTAX [following]\n",
            "--2023-11-30 15:03:32--  https://cdn-lfs.huggingface.co/repos/6f/e5/6fe5d8840a1ab462e1b9f52fbeabac6bb30febaf56fb5a439f08cca6d1cf4372/3f5062b8400c94b7159665b21ba5c62acdcd7682262743d7f2aefedef00e6581?response-content-disposition=attachment%3B+filename*%3DUTF-8%27%27ip-adapter-plus_sdxl_vit-h.safetensors%3B+filename%3D%22ip-adapter-plus_sdxl_vit-h.safetensors%22%3B&Expires=1701615812&Policy=eyJTdGF0ZW1lbnQiOlt7IkNvbmRpdGlvbiI6eyJEYXRlTGVzc1RoYW4iOnsiQVdTOkVwb2NoVGltZSI6MTcwMTYxNTgxMn19LCJSZXNvdXJjZSI6Imh0dHBzOi8vY2RuLWxmcy5odWdnaW5nZmFjZS5jby9yZXBvcy82Zi9lNS82ZmU1ZDg4NDBhMWFiNDYyZTFiOWY1MmZiZWFiYWM2YmIzMGZlYmFmNTZmYjVhNDM5ZjA4Y2NhNmQxY2Y0MzcyLzNmNTA2MmI4NDAwYzk0YjcxNTk2NjViMjFiYTVjNjJhY2RjZDc2ODIyNjI3NDNkN2YyYWVmZWRlZjAwZTY1ODE%7EcmVzcG9uc2UtY29udGVudC1kaXNwb3NpdGlvbj0qIn1dfQ__&Signature=o0rr-s4h20YwT4jEphrc6wrA0rTeNHHdIg9TxlHWMBtRPWLFKZWXMFlgjqOfqhoqWY97kz9i8ApXpjJJSg6hF4paky6ux%7Eg-0AFPnomtGIVdmK3ys%7EGb%7EonnHGKi9iN5xfIXa6AO5HDvtNnab26%7Ex4CxJRj%7EIi8TXM38Vj-DsIiopMh5Ut21umkQRFWYM7DTQZvam0-atHEOEHQET5x72WUZUginX6ZMuxKF3JFNLv8DzwqOTjE45XGYAoSGKuE6V6%7EzSd8Gda9gnxomAsr039MLlIjlMSZzl6B2FTh8WYpdCNZ-IEyOGd%7Ehv65Aua5HKUWwwNo4ODIaBOSLqd7e9A__&Key-Pair-Id=KVTP0A1DKRTAX\n",
            "Resolving cdn-lfs.huggingface.co (cdn-lfs.huggingface.co)... 108.157.162.27, 108.157.162.95, 108.157.162.58, ...\n",
            "Connecting to cdn-lfs.huggingface.co (cdn-lfs.huggingface.co)|108.157.162.27|:443... connected.\n",
            "HTTP request sent, awaiting response... 200 OK\n",
            "Length: 847517512 (808M) [application/octet-stream]\n",
            "Saving to: ‘./models/ipadapter/ip-adapter-plus_sdxl_vit-h.safetensors’\n",
            "\n",
            "ip-adapter-plus_sdx 100%[===================>] 808.25M  22.5MB/s    in 33s     \n",
            "\n",
            "2023-11-30 15:04:06 (24.3 MB/s) - ‘./models/ipadapter/ip-adapter-plus_sdxl_vit-h.safetensors’ saved [847517512/847517512]\n",
            "\n",
            "--2023-11-30 15:04:06--  https://huggingface.co/h94/IP-Adapter/resolve/main/sdxl_models/ip-adapter_sdxl.safetensors\n",
            "Resolving huggingface.co (huggingface.co)... 65.8.178.93, 65.8.178.12, 65.8.178.118, ...\n",
            "Connecting to huggingface.co (huggingface.co)|65.8.178.93|:443... connected.\n",
            "HTTP request sent, awaiting response... 302 Found\n",
            "Location: https://cdn-lfs.huggingface.co/repos/6f/e5/6fe5d8840a1ab462e1b9f52fbeabac6bb30febaf56fb5a439f08cca6d1cf4372/ba1002529e783604c5f326d49f0122025392d1d20ac8d573b3eeb3e6dea4ebb6?response-content-disposition=attachment%3B+filename*%3DUTF-8%27%27ip-adapter_sdxl.safetensors%3B+filename%3D%22ip-adapter_sdxl.safetensors%22%3B&Expires=1701615846&Policy=eyJTdGF0ZW1lbnQiOlt7IkNvbmRpdGlvbiI6eyJEYXRlTGVzc1RoYW4iOnsiQVdTOkVwb2NoVGltZSI6MTcwMTYxNTg0Nn19LCJSZXNvdXJjZSI6Imh0dHBzOi8vY2RuLWxmcy5odWdnaW5nZmFjZS5jby9yZXBvcy82Zi9lNS82ZmU1ZDg4NDBhMWFiNDYyZTFiOWY1MmZiZWFiYWM2YmIzMGZlYmFmNTZmYjVhNDM5ZjA4Y2NhNmQxY2Y0MzcyL2JhMTAwMjUyOWU3ODM2MDRjNWYzMjZkNDlmMDEyMjAyNTM5MmQxZDIwYWM4ZDU3M2IzZWViM2U2ZGVhNGViYjY%7EcmVzcG9uc2UtY29udGVudC1kaXNwb3NpdGlvbj0qIn1dfQ__&Signature=K8aGx4U-2PQIOROKKGRM3gtlmmqAG2qfWf1mbfV6HlxIpFIxSKmAXTThaJwCvm5AEe2l84vfb%7EXPMyElpJeD6vdLKC%7EbP3Gp1dsWexGDzd75tu3GIWiSfqkFW3FBelIODuVTNwH02JQPGrEm8In7%7EJH7QBF0noPjXzxZ8atknAbGxUNBraGZDVDKGt6sWeaDnt279Ij2Sgv80dzQafrkk18SbVQDnnQ0y60hFcxQwayVeS9h0uduCXr9WrGJ6tnLoKYh7T5a5yH14bmOdDa1T8psWU5NgNGkwy%7EtnqOeMHo58H5oXbLCkbDqwsuqKsbcKHYsH%7EISjU4smTColfeDFg__&Key-Pair-Id=KVTP0A1DKRTAX [following]\n",
            "--2023-11-30 15:04:06--  https://cdn-lfs.huggingface.co/repos/6f/e5/6fe5d8840a1ab462e1b9f52fbeabac6bb30febaf56fb5a439f08cca6d1cf4372/ba1002529e783604c5f326d49f0122025392d1d20ac8d573b3eeb3e6dea4ebb6?response-content-disposition=attachment%3B+filename*%3DUTF-8%27%27ip-adapter_sdxl.safetensors%3B+filename%3D%22ip-adapter_sdxl.safetensors%22%3B&Expires=1701615846&Policy=eyJTdGF0ZW1lbnQiOlt7IkNvbmRpdGlvbiI6eyJEYXRlTGVzc1RoYW4iOnsiQVdTOkVwb2NoVGltZSI6MTcwMTYxNTg0Nn19LCJSZXNvdXJjZSI6Imh0dHBzOi8vY2RuLWxmcy5odWdnaW5nZmFjZS5jby9yZXBvcy82Zi9lNS82ZmU1ZDg4NDBhMWFiNDYyZTFiOWY1MmZiZWFiYWM2YmIzMGZlYmFmNTZmYjVhNDM5ZjA4Y2NhNmQxY2Y0MzcyL2JhMTAwMjUyOWU3ODM2MDRjNWYzMjZkNDlmMDEyMjAyNTM5MmQxZDIwYWM4ZDU3M2IzZWViM2U2ZGVhNGViYjY%7EcmVzcG9uc2UtY29udGVudC1kaXNwb3NpdGlvbj0qIn1dfQ__&Signature=K8aGx4U-2PQIOROKKGRM3gtlmmqAG2qfWf1mbfV6HlxIpFIxSKmAXTThaJwCvm5AEe2l84vfb%7EXPMyElpJeD6vdLKC%7EbP3Gp1dsWexGDzd75tu3GIWiSfqkFW3FBelIODuVTNwH02JQPGrEm8In7%7EJH7QBF0noPjXzxZ8atknAbGxUNBraGZDVDKGt6sWeaDnt279Ij2Sgv80dzQafrkk18SbVQDnnQ0y60hFcxQwayVeS9h0uduCXr9WrGJ6tnLoKYh7T5a5yH14bmOdDa1T8psWU5NgNGkwy%7EtnqOeMHo58H5oXbLCkbDqwsuqKsbcKHYsH%7EISjU4smTColfeDFg__&Key-Pair-Id=KVTP0A1DKRTAX\n",
            "Resolving cdn-lfs.huggingface.co (cdn-lfs.huggingface.co)... 108.157.162.58, 108.157.162.27, 108.157.162.99, ...\n",
            "Connecting to cdn-lfs.huggingface.co (cdn-lfs.huggingface.co)|108.157.162.58|:443... connected.\n",
            "HTTP request sent, awaiting response... 200 OK\n",
            "Length: 702585376 (670M) [application/octet-stream]\n",
            "Saving to: ‘./models/ipadapter/ip-adapter_sdxl.safetensors’\n",
            "\n",
            "ip-adapter_sdxl.saf 100%[===================>] 670.04M  35.6MB/s    in 16s     \n",
            "\n",
            "2023-11-30 15:04:23 (41.2 MB/s) - ‘./models/ipadapter/ip-adapter_sdxl.safetensors’ saved [702585376/702585376]\n",
            "\n",
            "--2023-11-30 15:04:23--  https://huggingface.co/h94/IP-Adapter/resolve/main/sdxl_models/ip-adapter_sdxl_vit-h.safetensors\n",
            "Resolving huggingface.co (huggingface.co)... 65.8.178.93, 65.8.178.12, 65.8.178.118, ...\n",
            "Connecting to huggingface.co (huggingface.co)|65.8.178.93|:443... connected.\n",
            "HTTP request sent, awaiting response... 302 Found\n",
            "Location: https://cdn-lfs.huggingface.co/repos/6f/e5/6fe5d8840a1ab462e1b9f52fbeabac6bb30febaf56fb5a439f08cca6d1cf4372/ebf05d918348aec7abb02a5e9ecef77e0aaea6914a5c4ea13f50d45eb1681831?response-content-disposition=attachment%3B+filename*%3DUTF-8%27%27ip-adapter_sdxl_vit-h.safetensors%3B+filename%3D%22ip-adapter_sdxl_vit-h.safetensors%22%3B&Expires=1701613511&Policy=eyJTdGF0ZW1lbnQiOlt7IkNvbmRpdGlvbiI6eyJEYXRlTGVzc1RoYW4iOnsiQVdTOkVwb2NoVGltZSI6MTcwMTYxMzUxMX19LCJSZXNvdXJjZSI6Imh0dHBzOi8vY2RuLWxmcy5odWdnaW5nZmFjZS5jby9yZXBvcy82Zi9lNS82ZmU1ZDg4NDBhMWFiNDYyZTFiOWY1MmZiZWFiYWM2YmIzMGZlYmFmNTZmYjVhNDM5ZjA4Y2NhNmQxY2Y0MzcyL2ViZjA1ZDkxODM0OGFlYzdhYmIwMmE1ZTllY2VmNzdlMGFhZWE2OTE0YTVjNGVhMTNmNTBkNDVlYjE2ODE4MzE%7EcmVzcG9uc2UtY29udGVudC1kaXNwb3NpdGlvbj0qIn1dfQ__&Signature=BJJ8FUQj2QOOPqJSuU56Idcev9mxoRyL272vbQZK3Jq1H9TgGLLARQ9G37m%7EiqB38s0FKSqgRnc5BIW0OC5QJlug-bw%7Ew2ljuG36e83luk4ulvWOYkGrVvR6fLGcsazt5K3FT-z4V8gQ6Y0pyp9Lb0QG4jzlv2EmdR3w2ilypuDwPVbJO5FASg7nzGU6U4p8YxWF83jPXv8aisU8oOp4Wj5CVoQ%7ENjE3mXICo2rHgfT0yyttxa2CWLfjbOs51beQLLrZt3PmEsEkcq5K8xQtgNJ1SDjTlGxD5EDYfk58HUH5UXmdgcBt0GcHU6L8o-yl%7EQFwhCwSj%7E11N%7E0zqPxdVg__&Key-Pair-Id=KVTP0A1DKRTAX [following]\n",
            "--2023-11-30 15:04:23--  https://cdn-lfs.huggingface.co/repos/6f/e5/6fe5d8840a1ab462e1b9f52fbeabac6bb30febaf56fb5a439f08cca6d1cf4372/ebf05d918348aec7abb02a5e9ecef77e0aaea6914a5c4ea13f50d45eb1681831?response-content-disposition=attachment%3B+filename*%3DUTF-8%27%27ip-adapter_sdxl_vit-h.safetensors%3B+filename%3D%22ip-adapter_sdxl_vit-h.safetensors%22%3B&Expires=1701613511&Policy=eyJTdGF0ZW1lbnQiOlt7IkNvbmRpdGlvbiI6eyJEYXRlTGVzc1RoYW4iOnsiQVdTOkVwb2NoVGltZSI6MTcwMTYxMzUxMX19LCJSZXNvdXJjZSI6Imh0dHBzOi8vY2RuLWxmcy5odWdnaW5nZmFjZS5jby9yZXBvcy82Zi9lNS82ZmU1ZDg4NDBhMWFiNDYyZTFiOWY1MmZiZWFiYWM2YmIzMGZlYmFmNTZmYjVhNDM5ZjA4Y2NhNmQxY2Y0MzcyL2ViZjA1ZDkxODM0OGFlYzdhYmIwMmE1ZTllY2VmNzdlMGFhZWE2OTE0YTVjNGVhMTNmNTBkNDVlYjE2ODE4MzE%7EcmVzcG9uc2UtY29udGVudC1kaXNwb3NpdGlvbj0qIn1dfQ__&Signature=BJJ8FUQj2QOOPqJSuU56Idcev9mxoRyL272vbQZK3Jq1H9TgGLLARQ9G37m%7EiqB38s0FKSqgRnc5BIW0OC5QJlug-bw%7Ew2ljuG36e83luk4ulvWOYkGrVvR6fLGcsazt5K3FT-z4V8gQ6Y0pyp9Lb0QG4jzlv2EmdR3w2ilypuDwPVbJO5FASg7nzGU6U4p8YxWF83jPXv8aisU8oOp4Wj5CVoQ%7ENjE3mXICo2rHgfT0yyttxa2CWLfjbOs51beQLLrZt3PmEsEkcq5K8xQtgNJ1SDjTlGxD5EDYfk58HUH5UXmdgcBt0GcHU6L8o-yl%7EQFwhCwSj%7E11N%7E0zqPxdVg__&Key-Pair-Id=KVTP0A1DKRTAX\n",
            "Resolving cdn-lfs.huggingface.co (cdn-lfs.huggingface.co)... 108.157.162.58, 108.157.162.27, 108.157.162.99, ...\n",
            "Connecting to cdn-lfs.huggingface.co (cdn-lfs.huggingface.co)|108.157.162.58|:443... connected.\n",
            "HTTP request sent, awaiting response... 200 OK\n",
            "Length: 698391064 (666M) [application/octet-stream]\n",
            "Saving to: ‘./models/ipadapter/ip-adapter_sdxl_vit-h.safetensors’\n",
            "\n",
            "ip-adapter_sdxl_vit 100%[===================>] 666.04M  50.1MB/s    in 13s     \n",
            "\n",
            "2023-11-30 15:04:36 (52.9 MB/s) - ‘./models/ipadapter/ip-adapter_sdxl_vit-h.safetensors’ saved [698391064/698391064]\n",
            "\n"
          ]
        }
      ]
    },
    {
      "cell_type": "code",
      "source": [
        "# download encoders\n",
        "!wget -P ./models/clip_vision -c https://huggingface.co/h94/IP-Adapter/resolve/main/models/image_encoder/model.safetensors\n",
        "!wget -P ./models/clip_vision -c https://huggingface.co/h94/IP-Adapter/resolve/main/sdxl_models/image_encoder/model.safetensors"
      ],
      "metadata": {
        "id": "8xSOq2KnwWGY",
        "outputId": "7ed7393c-bdf8-4478-e8b4-e21b98d5b06d",
        "colab": {
          "base_uri": "https://localhost:8080/"
        }
      },
      "execution_count": 5,
      "outputs": [
        {
          "output_type": "stream",
          "name": "stdout",
          "text": [
            "--2023-11-30 15:10:51--  https://huggingface.co/h94/IP-Adapter/resolve/main/models/image_encoder/model.safetensors\n",
            "Resolving huggingface.co (huggingface.co)... 65.8.178.118, 65.8.178.12, 65.8.178.27, ...\n",
            "Connecting to huggingface.co (huggingface.co)|65.8.178.118|:443... connected.\n",
            "HTTP request sent, awaiting response... 302 Found\n",
            "Location: https://cdn-lfs.huggingface.co/repos/6f/e5/6fe5d8840a1ab462e1b9f52fbeabac6bb30febaf56fb5a439f08cca6d1cf4372/6ca9667da1ca9e0b0f75e46bb030f7e011f44f86cbfb8d5a36590fcd7507b030?response-content-disposition=attachment%3B+filename*%3DUTF-8%27%27model.safetensors%3B+filename%3D%22model.safetensors%22%3B&Expires=1701613156&Policy=eyJTdGF0ZW1lbnQiOlt7IkNvbmRpdGlvbiI6eyJEYXRlTGVzc1RoYW4iOnsiQVdTOkVwb2NoVGltZSI6MTcwMTYxMzE1Nn19LCJSZXNvdXJjZSI6Imh0dHBzOi8vY2RuLWxmcy5odWdnaW5nZmFjZS5jby9yZXBvcy82Zi9lNS82ZmU1ZDg4NDBhMWFiNDYyZTFiOWY1MmZiZWFiYWM2YmIzMGZlYmFmNTZmYjVhNDM5ZjA4Y2NhNmQxY2Y0MzcyLzZjYTk2NjdkYTFjYTllMGIwZjc1ZTQ2YmIwMzBmN2UwMTFmNDRmODZjYmZiOGQ1YTM2NTkwZmNkNzUwN2IwMzA%7EcmVzcG9uc2UtY29udGVudC1kaXNwb3NpdGlvbj0qIn1dfQ__&Signature=iFFjGMk-KXs79SXayRSucTWy-Kv5BzZ6ennW7WSsfrbhP8tCgN4yBRXbDfPCpY2SIVzhVg-QWs6MFlSU0pwA8u3fYKISpYIwXP5V6dbrnyWhCimN-E0f-P6Il1daOLAJLBYWNR6G0z8shOH6skOdJgjbAfw-yBWzL4SrDjNK1bULlf694T52qTTcSjs52DiadaYMV%7Ea7C2Q0hOiY96vafIZHY26O32-FJOOrQT18RgMpPWFryrYOnlPMnm-HgZ%7EC1Z3rJtgVO5LOrJHMY%7EIK5NzD6KKwkJNXZLPRoerK0wiALNlqKz2a11qzUpZeJrEQlrjX0GxSzVg28NJcKex-Qw__&Key-Pair-Id=KVTP0A1DKRTAX [following]\n",
            "--2023-11-30 15:10:51--  https://cdn-lfs.huggingface.co/repos/6f/e5/6fe5d8840a1ab462e1b9f52fbeabac6bb30febaf56fb5a439f08cca6d1cf4372/6ca9667da1ca9e0b0f75e46bb030f7e011f44f86cbfb8d5a36590fcd7507b030?response-content-disposition=attachment%3B+filename*%3DUTF-8%27%27model.safetensors%3B+filename%3D%22model.safetensors%22%3B&Expires=1701613156&Policy=eyJTdGF0ZW1lbnQiOlt7IkNvbmRpdGlvbiI6eyJEYXRlTGVzc1RoYW4iOnsiQVdTOkVwb2NoVGltZSI6MTcwMTYxMzE1Nn19LCJSZXNvdXJjZSI6Imh0dHBzOi8vY2RuLWxmcy5odWdnaW5nZmFjZS5jby9yZXBvcy82Zi9lNS82ZmU1ZDg4NDBhMWFiNDYyZTFiOWY1MmZiZWFiYWM2YmIzMGZlYmFmNTZmYjVhNDM5ZjA4Y2NhNmQxY2Y0MzcyLzZjYTk2NjdkYTFjYTllMGIwZjc1ZTQ2YmIwMzBmN2UwMTFmNDRmODZjYmZiOGQ1YTM2NTkwZmNkNzUwN2IwMzA%7EcmVzcG9uc2UtY29udGVudC1kaXNwb3NpdGlvbj0qIn1dfQ__&Signature=iFFjGMk-KXs79SXayRSucTWy-Kv5BzZ6ennW7WSsfrbhP8tCgN4yBRXbDfPCpY2SIVzhVg-QWs6MFlSU0pwA8u3fYKISpYIwXP5V6dbrnyWhCimN-E0f-P6Il1daOLAJLBYWNR6G0z8shOH6skOdJgjbAfw-yBWzL4SrDjNK1bULlf694T52qTTcSjs52DiadaYMV%7Ea7C2Q0hOiY96vafIZHY26O32-FJOOrQT18RgMpPWFryrYOnlPMnm-HgZ%7EC1Z3rJtgVO5LOrJHMY%7EIK5NzD6KKwkJNXZLPRoerK0wiALNlqKz2a11qzUpZeJrEQlrjX0GxSzVg28NJcKex-Qw__&Key-Pair-Id=KVTP0A1DKRTAX\n",
            "Resolving cdn-lfs.huggingface.co (cdn-lfs.huggingface.co)... 108.157.162.99, 108.157.162.95, 108.157.162.27, ...\n",
            "Connecting to cdn-lfs.huggingface.co (cdn-lfs.huggingface.co)|108.157.162.99|:443... connected.\n",
            "HTTP request sent, awaiting response... 200 OK\n",
            "Length: 2528373448 (2.4G) [binary/octet-stream]\n",
            "Saving to: ‘./models/clip_vision/model.safetensors’\n",
            "\n",
            "model.safetensors   100%[===================>]   2.35G  34.3MB/s    in 60s     \n",
            "\n",
            "2023-11-30 15:11:52 (40.2 MB/s) - ‘./models/clip_vision/model.safetensors’ saved [2528373448/2528373448]\n",
            "\n",
            "--2023-11-30 15:11:52--  https://huggingface.co/h94/IP-Adapter/resolve/main/sdxl_models/image_encoder/model.safetensors\n",
            "Resolving huggingface.co (huggingface.co)... 65.8.178.93, 65.8.178.12, 65.8.178.27, ...\n",
            "Connecting to huggingface.co (huggingface.co)|65.8.178.93|:443... connected.\n",
            "HTTP request sent, awaiting response... 302 Found\n",
            "Location: https://cdn-lfs.huggingface.co/repos/6f/e5/6fe5d8840a1ab462e1b9f52fbeabac6bb30febaf56fb5a439f08cca6d1cf4372/657723e09f46a7c3957df651601029f66b1748afb12b419816330f16ed45d64d?response-content-disposition=attachment%3B+filename*%3DUTF-8%27%27model.safetensors%3B+filename%3D%22model.safetensors%22%3B&Expires=1701616312&Policy=eyJTdGF0ZW1lbnQiOlt7IkNvbmRpdGlvbiI6eyJEYXRlTGVzc1RoYW4iOnsiQVdTOkVwb2NoVGltZSI6MTcwMTYxNjMxMn19LCJSZXNvdXJjZSI6Imh0dHBzOi8vY2RuLWxmcy5odWdnaW5nZmFjZS5jby9yZXBvcy82Zi9lNS82ZmU1ZDg4NDBhMWFiNDYyZTFiOWY1MmZiZWFiYWM2YmIzMGZlYmFmNTZmYjVhNDM5ZjA4Y2NhNmQxY2Y0MzcyLzY1NzcyM2UwOWY0NmE3YzM5NTdkZjY1MTYwMTAyOWY2NmIxNzQ4YWZiMTJiNDE5ODE2MzMwZjE2ZWQ0NWQ2NGQ%7EcmVzcG9uc2UtY29udGVudC1kaXNwb3NpdGlvbj0qIn1dfQ__&Signature=bXen-Mq0de4mDGD93gur0SIcpbV1km9fneZk3cdaQKx2lhpfa-Ren065p431r-HYLCZFNNX%7E8J7i3UJdJOC6ttEqDmriEu4-8XATUn7FdmewYFmUA4VDFPRPdv%7E%7Eku5AxDnCrObrmrAlrvh4KcWrItWgPcDCr2llE2KJvNhV8MdIpCrAzv6%7EupznWF5UD8mcOQjVBoNPjlw795clnbM2l4DrLyhohehvx7y7pocRyAsFiI5JZZfAtKEZgXZs9VyVy9kGzjS2ZhsP0NMSagb0NPWwvGCOXK8uAHiDvMoBQNxlPYECyinZbjBgic6ELb1%7EZyjzosPx6E%7EpW9LNgxXTrA__&Key-Pair-Id=KVTP0A1DKRTAX [following]\n",
            "--2023-11-30 15:11:52--  https://cdn-lfs.huggingface.co/repos/6f/e5/6fe5d8840a1ab462e1b9f52fbeabac6bb30febaf56fb5a439f08cca6d1cf4372/657723e09f46a7c3957df651601029f66b1748afb12b419816330f16ed45d64d?response-content-disposition=attachment%3B+filename*%3DUTF-8%27%27model.safetensors%3B+filename%3D%22model.safetensors%22%3B&Expires=1701616312&Policy=eyJTdGF0ZW1lbnQiOlt7IkNvbmRpdGlvbiI6eyJEYXRlTGVzc1RoYW4iOnsiQVdTOkVwb2NoVGltZSI6MTcwMTYxNjMxMn19LCJSZXNvdXJjZSI6Imh0dHBzOi8vY2RuLWxmcy5odWdnaW5nZmFjZS5jby9yZXBvcy82Zi9lNS82ZmU1ZDg4NDBhMWFiNDYyZTFiOWY1MmZiZWFiYWM2YmIzMGZlYmFmNTZmYjVhNDM5ZjA4Y2NhNmQxY2Y0MzcyLzY1NzcyM2UwOWY0NmE3YzM5NTdkZjY1MTYwMTAyOWY2NmIxNzQ4YWZiMTJiNDE5ODE2MzMwZjE2ZWQ0NWQ2NGQ%7EcmVzcG9uc2UtY29udGVudC1kaXNwb3NpdGlvbj0qIn1dfQ__&Signature=bXen-Mq0de4mDGD93gur0SIcpbV1km9fneZk3cdaQKx2lhpfa-Ren065p431r-HYLCZFNNX%7E8J7i3UJdJOC6ttEqDmriEu4-8XATUn7FdmewYFmUA4VDFPRPdv%7E%7Eku5AxDnCrObrmrAlrvh4KcWrItWgPcDCr2llE2KJvNhV8MdIpCrAzv6%7EupznWF5UD8mcOQjVBoNPjlw795clnbM2l4DrLyhohehvx7y7pocRyAsFiI5JZZfAtKEZgXZs9VyVy9kGzjS2ZhsP0NMSagb0NPWwvGCOXK8uAHiDvMoBQNxlPYECyinZbjBgic6ELb1%7EZyjzosPx6E%7EpW9LNgxXTrA__&Key-Pair-Id=KVTP0A1DKRTAX\n",
            "Resolving cdn-lfs.huggingface.co (cdn-lfs.huggingface.co)... 108.157.162.27, 108.157.162.95, 108.157.162.99, ...\n",
            "Connecting to cdn-lfs.huggingface.co (cdn-lfs.huggingface.co)|108.157.162.27|:443... connected.\n",
            "HTTP request sent, awaiting response... 206 Partial Content\n",
            "Length: 3689912664 (3.4G), 1161539216 (1.1G) remaining [binary/octet-stream]\n",
            "Saving to: ‘./models/clip_vision/model.safetensors’\n",
            "\n",
            "model.safetensors   100%[+++++++++++++======>]   3.44G  39.4MB/s    in 27s     \n",
            "\n",
            "2023-11-30 15:12:20 (40.3 MB/s) - ‘./models/clip_vision/model.safetensors’ saved [3689912664/3689912664]\n",
            "\n"
          ]
        }
      ]
    },
    {
      "cell_type": "code",
      "execution_count": null,
      "metadata": {
        "id": "dddddddddd",
        "outputId": "d6575029-fa80-4baa-9311-c2488283597b",
        "colab": {
          "base_uri": "https://localhost:8080/"
        }
      },
      "outputs": [
        {
          "output_type": "stream",
          "name": "stdout",
          "text": [
            "--2023-11-30 15:26:58--  https://huggingface.co/stabilityai/stable-diffusion-xl-base-1.0/resolve/main/sd_xl_base_1.0.safetensors\n",
            "Resolving huggingface.co (huggingface.co)... 65.8.178.12, 65.8.178.118, 65.8.178.93, ...\n",
            "Connecting to huggingface.co (huggingface.co)|65.8.178.12|:443... connected.\n",
            "HTTP request sent, awaiting response... 302 Found\n",
            "Location: https://cdn-lfs.huggingface.co/repos/7f/2f/7f2fe2e27137549cd28e570e5bac269b49ebcf1e0e47279c7a941ebe5c948e02/31e35c80fc4829d14f90153f4c74cd59c90b779f6afe05a74cd6120b893f7e5b?response-content-disposition=attachment%3B+filename*%3DUTF-8%27%27sd_xl_base_1.0.safetensors%3B+filename%3D%22sd_xl_base_1.0.safetensors%22%3B&Expires=1701615157&Policy=eyJTdGF0ZW1lbnQiOlt7IkNvbmRpdGlvbiI6eyJEYXRlTGVzc1RoYW4iOnsiQVdTOkVwb2NoVGltZSI6MTcwMTYxNTE1N319LCJSZXNvdXJjZSI6Imh0dHBzOi8vY2RuLWxmcy5odWdnaW5nZmFjZS5jby9yZXBvcy83Zi8yZi83ZjJmZTJlMjcxMzc1NDljZDI4ZTU3MGU1YmFjMjY5YjQ5ZWJjZjFlMGU0NzI3OWM3YTk0MWViZTVjOTQ4ZTAyLzMxZTM1YzgwZmM0ODI5ZDE0ZjkwMTUzZjRjNzRjZDU5YzkwYjc3OWY2YWZlMDVhNzRjZDYxMjBiODkzZjdlNWI%7EcmVzcG9uc2UtY29udGVudC1kaXNwb3NpdGlvbj0qIn1dfQ__&Signature=Sm4tIf79cxOLg7wS%7EmjwYV8kaXr7V-AbB7wBr-5dg%7E3heymSBIql2kKp9aySDTAcJmFfyAOanwGrzG62Y7CKaclYgPtMdOQIkkpLJbST9PvovkkAgZRaqlFh%7E845XgGNR1QC282i6cz8RFN-ZlHZLTyVih6Zu-vb8uEMnH-D2iwywmOzp08ex-mJaD-cHqT4XDLBfp%7EE6GLpXmw-pORAnGvi3LuA7mWX4nnyyOUfiIcSLvMFg7UXcapb-wVbBLlmnwrHRzJ077p2-gkhbmZmLpcc3i%7EFLvNBcs9ZGbyVxOmA1%7Eqly6r0Mv0x1biLSL4BIvoYDketVZ8wdK6GnN7hRw__&Key-Pair-Id=KVTP0A1DKRTAX [following]\n",
            "--2023-11-30 15:26:58--  https://cdn-lfs.huggingface.co/repos/7f/2f/7f2fe2e27137549cd28e570e5bac269b49ebcf1e0e47279c7a941ebe5c948e02/31e35c80fc4829d14f90153f4c74cd59c90b779f6afe05a74cd6120b893f7e5b?response-content-disposition=attachment%3B+filename*%3DUTF-8%27%27sd_xl_base_1.0.safetensors%3B+filename%3D%22sd_xl_base_1.0.safetensors%22%3B&Expires=1701615157&Policy=eyJTdGF0ZW1lbnQiOlt7IkNvbmRpdGlvbiI6eyJEYXRlTGVzc1RoYW4iOnsiQVdTOkVwb2NoVGltZSI6MTcwMTYxNTE1N319LCJSZXNvdXJjZSI6Imh0dHBzOi8vY2RuLWxmcy5odWdnaW5nZmFjZS5jby9yZXBvcy83Zi8yZi83ZjJmZTJlMjcxMzc1NDljZDI4ZTU3MGU1YmFjMjY5YjQ5ZWJjZjFlMGU0NzI3OWM3YTk0MWViZTVjOTQ4ZTAyLzMxZTM1YzgwZmM0ODI5ZDE0ZjkwMTUzZjRjNzRjZDU5YzkwYjc3OWY2YWZlMDVhNzRjZDYxMjBiODkzZjdlNWI%7EcmVzcG9uc2UtY29udGVudC1kaXNwb3NpdGlvbj0qIn1dfQ__&Signature=Sm4tIf79cxOLg7wS%7EmjwYV8kaXr7V-AbB7wBr-5dg%7E3heymSBIql2kKp9aySDTAcJmFfyAOanwGrzG62Y7CKaclYgPtMdOQIkkpLJbST9PvovkkAgZRaqlFh%7E845XgGNR1QC282i6cz8RFN-ZlHZLTyVih6Zu-vb8uEMnH-D2iwywmOzp08ex-mJaD-cHqT4XDLBfp%7EE6GLpXmw-pORAnGvi3LuA7mWX4nnyyOUfiIcSLvMFg7UXcapb-wVbBLlmnwrHRzJ077p2-gkhbmZmLpcc3i%7EFLvNBcs9ZGbyVxOmA1%7Eqly6r0Mv0x1biLSL4BIvoYDketVZ8wdK6GnN7hRw__&Key-Pair-Id=KVTP0A1DKRTAX\n",
            "Resolving cdn-lfs.huggingface.co (cdn-lfs.huggingface.co)... 108.157.162.27, 108.157.162.99, 108.157.162.95, ...\n",
            "Connecting to cdn-lfs.huggingface.co (cdn-lfs.huggingface.co)|108.157.162.27|:443... connected.\n",
            "HTTP request sent, awaiting response... 200 OK\n",
            "Length: 6938078334 (6.5G) [binary/octet-stream]\n",
            "Saving to: ‘./models/checkpoints/sd_xl_base_1.0.safetensors’\n",
            "\n",
            "       sd_xl_base_1  84%[===============>    ]   5.46G  42.6MB/s    eta 25s    "
          ]
        }
      ],
      "source": [
        "# Checkpoints\n",
        "\n",
        "### SDXL\n",
        "### I recommend these workflow examples: https://comfyanonymous.github.io/ComfyUI_examples/sdxl/\n",
        "\n",
        "!wget -c https://huggingface.co/stabilityai/stable-diffusion-xl-base-1.0/resolve/main/sd_xl_base_1.0.safetensors -P ./models/checkpoints/\n",
        "!wget -c https://huggingface.co/stabilityai/stable-diffusion-xl-refiner-1.0/resolve/main/sd_xl_refiner_1.0.safetensors -P ./models/checkpoints/\n",
        "\n",
        "# SDXL ReVision\n",
        "#!wget -c https://huggingface.co/comfyanonymous/clip_vision_g/resolve/main/clip_vision_g.safetensors -P ./models/clip_vision/\n",
        "\n",
        "# SD1.5\n",
        "#!wget -c https://huggingface.co/runwayml/stable-diffusion-v1-5/resolve/main/v1-5-pruned-emaonly.ckpt -P ./models/checkpoints/\n",
        "\n",
        "# SD2\n",
        "#!wget -c https://huggingface.co/stabilityai/stable-diffusion-2-1-base/resolve/main/v2-1_512-ema-pruned.safetensors -P ./models/checkpoints/\n",
        "#!wget -c https://huggingface.co/stabilityai/stable-diffusion-2-1/resolve/main/v2-1_768-ema-pruned.safetensors -P ./models/checkpoints/\n",
        "\n",
        "# Some SD1.5 anime style\n",
        "#!wget -c https://huggingface.co/WarriorMama777/OrangeMixs/resolve/main/Models/AbyssOrangeMix2/AbyssOrangeMix2_hard.safetensors -P ./models/checkpoints/\n",
        "#!wget -c https://huggingface.co/WarriorMama777/OrangeMixs/resolve/main/Models/AbyssOrangeMix3/AOM3A1_orangemixs.safetensors -P ./models/checkpoints/\n",
        "#!wget -c https://huggingface.co/WarriorMama777/OrangeMixs/resolve/main/Models/AbyssOrangeMix3/AOM3A3_orangemixs.safetensors -P ./models/checkpoints/\n",
        "#!wget -c https://huggingface.co/Linaqruf/anything-v3.0/resolve/main/anything-v3-fp16-pruned.safetensors -P ./models/checkpoints/\n",
        "\n",
        "# Waifu Diffusion 1.5 (anime style SD2.x 768-v)\n",
        "#!wget -c https://huggingface.co/waifu-diffusion/wd-1-5-beta3/resolve/main/wd-illusion-fp16.safetensors -P ./models/checkpoints/\n",
        "\n",
        "\n",
        "# unCLIP models\n",
        "#!wget -c https://huggingface.co/comfyanonymous/illuminatiDiffusionV1_v11_unCLIP/resolve/main/illuminatiDiffusionV1_v11-unclip-h-fp16.safetensors -P ./models/checkpoints/\n",
        "#!wget -c https://huggingface.co/comfyanonymous/wd-1.5-beta2_unCLIP/resolve/main/wd-1-5-beta2-aesthetic-unclip-h-fp16.safetensors -P ./models/checkpoints/\n",
        "\n",
        "\n",
        "# VAE\n",
        "#!wget -c https://huggingface.co/stabilityai/sd-vae-ft-mse-original/resolve/main/vae-ft-mse-840000-ema-pruned.safetensors -P ./models/vae/\n",
        "#!wget -c https://huggingface.co/WarriorMama777/OrangeMixs/resolve/main/VAEs/orangemix.vae.pt -P ./models/vae/\n",
        "#!wget -c https://huggingface.co/hakurei/waifu-diffusion-v1-4/resolve/main/vae/kl-f8-anime2.ckpt -P ./models/vae/\n",
        "\n",
        "\n",
        "# Loras\n",
        "#!wget -c https://civitai.com/api/download/models/10350 -O ./models/loras/theovercomer8sContrastFix_sd21768.safetensors #theovercomer8sContrastFix SD2.x 768-v\n",
        "#!wget -c https://civitai.com/api/download/models/10638 -O ./models/loras/theovercomer8sContrastFix_sd15.safetensors #theovercomer8sContrastFix SD1.x\n",
        "#!wget -c https://huggingface.co/stabilityai/stable-diffusion-xl-base-1.0/resolve/main/sd_xl_offset_example-lora_1.0.safetensors -P ./models/loras/ #SDXL offset noise lora\n",
        "\n",
        "\n",
        "# T2I-Adapter\n",
        "#!wget -c https://huggingface.co/TencentARC/T2I-Adapter/resolve/main/models/t2iadapter_depth_sd14v1.pth -P ./models/controlnet/\n",
        "#!wget -c https://huggingface.co/TencentARC/T2I-Adapter/resolve/main/models/t2iadapter_seg_sd14v1.pth -P ./models/controlnet/\n",
        "#!wget -c https://huggingface.co/TencentARC/T2I-Adapter/resolve/main/models/t2iadapter_sketch_sd14v1.pth -P ./models/controlnet/\n",
        "#!wget -c https://huggingface.co/TencentARC/T2I-Adapter/resolve/main/models/t2iadapter_keypose_sd14v1.pth -P ./models/controlnet/\n",
        "#!wget -c https://huggingface.co/TencentARC/T2I-Adapter/resolve/main/models/t2iadapter_openpose_sd14v1.pth -P ./models/controlnet/\n",
        "#!wget -c https://huggingface.co/TencentARC/T2I-Adapter/resolve/main/models/t2iadapter_color_sd14v1.pth -P ./models/controlnet/\n",
        "#!wget -c https://huggingface.co/TencentARC/T2I-Adapter/resolve/main/models/t2iadapter_canny_sd14v1.pth -P ./models/controlnet/\n",
        "\n",
        "# T2I Styles Model\n",
        "#!wget -c https://huggingface.co/TencentARC/T2I-Adapter/resolve/main/models/t2iadapter_style_sd14v1.pth -P ./models/style_models/\n",
        "\n",
        "# CLIPVision model (needed for styles model)\n",
        "#!wget -c https://huggingface.co/openai/clip-vit-large-patch14/resolve/main/pytorch_model.bin -O ./models/clip_vision/clip_vit14.bin\n",
        "\n",
        "\n",
        "# ControlNet\n",
        "#!wget -c https://huggingface.co/comfyanonymous/ControlNet-v1-1_fp16_safetensors/resolve/main/control_v11e_sd15_ip2p_fp16.safetensors -P ./models/controlnet/\n",
        "#!wget -c https://huggingface.co/comfyanonymous/ControlNet-v1-1_fp16_safetensors/resolve/main/control_v11e_sd15_shuffle_fp16.safetensors -P ./models/controlnet/\n",
        "#!wget -c https://huggingface.co/comfyanonymous/ControlNet-v1-1_fp16_safetensors/resolve/main/control_v11p_sd15_canny_fp16.safetensors -P ./models/controlnet/\n",
        "#!wget -c https://huggingface.co/comfyanonymous/ControlNet-v1-1_fp16_safetensors/resolve/main/control_v11f1p_sd15_depth_fp16.safetensors -P ./models/controlnet/\n",
        "#!wget -c https://huggingface.co/comfyanonymous/ControlNet-v1-1_fp16_safetensors/resolve/main/control_v11p_sd15_inpaint_fp16.safetensors -P ./models/controlnet/\n",
        "#!wget -c https://huggingface.co/comfyanonymous/ControlNet-v1-1_fp16_safetensors/resolve/main/control_v11p_sd15_lineart_fp16.safetensors -P ./models/controlnet/\n",
        "#!wget -c https://huggingface.co/comfyanonymous/ControlNet-v1-1_fp16_safetensors/resolve/main/control_v11p_sd15_mlsd_fp16.safetensors -P ./models/controlnet/\n",
        "#!wget -c https://huggingface.co/comfyanonymous/ControlNet-v1-1_fp16_safetensors/resolve/main/control_v11p_sd15_normalbae_fp16.safetensors -P ./models/controlnet/\n",
        "#!wget -c https://huggingface.co/comfyanonymous/ControlNet-v1-1_fp16_safetensors/resolve/main/control_v11p_sd15_openpose_fp16.safetensors -P ./models/controlnet/\n",
        "#!wget -c https://huggingface.co/comfyanonymous/ControlNet-v1-1_fp16_safetensors/resolve/main/control_v11p_sd15_scribble_fp16.safetensors -P ./models/controlnet/\n",
        "#!wget -c https://huggingface.co/comfyanonymous/ControlNet-v1-1_fp16_safetensors/resolve/main/control_v11p_sd15_seg_fp16.safetensors -P ./models/controlnet/\n",
        "#!wget -c https://huggingface.co/comfyanonymous/ControlNet-v1-1_fp16_safetensors/resolve/main/control_v11p_sd15_softedge_fp16.safetensors -P ./models/controlnet/\n",
        "#!wget -c https://huggingface.co/comfyanonymous/ControlNet-v1-1_fp16_safetensors/resolve/main/control_v11p_sd15s2_lineart_anime_fp16.safetensors -P ./models/controlnet/\n",
        "#!wget -c https://huggingface.co/comfyanonymous/ControlNet-v1-1_fp16_safetensors/resolve/main/control_v11u_sd15_tile_fp16.safetensors -P ./models/controlnet/\n",
        "\n",
        "# ControlNet SDXL\n",
        "#!wget -c https://huggingface.co/stabilityai/control-lora/resolve/main/control-LoRAs-rank256/control-lora-canny-rank256.safetensors -P ./models/controlnet/\n",
        "#!wget -c https://huggingface.co/stabilityai/control-lora/resolve/main/control-LoRAs-rank256/control-lora-depth-rank256.safetensors -P ./models/controlnet/\n",
        "#!wget -c https://huggingface.co/stabilityai/control-lora/resolve/main/control-LoRAs-rank256/control-lora-recolor-rank256.safetensors -P ./models/controlnet/\n",
        "#!wget -c https://huggingface.co/stabilityai/control-lora/resolve/main/control-LoRAs-rank256/control-lora-sketch-rank256.safetensors -P ./models/controlnet/\n",
        "\n",
        "# Controlnet Preprocessor nodes by Fannovel16\n",
        "#!cd custom_nodes && git clone https://github.com/Fannovel16/comfy_controlnet_preprocessors; cd comfy_controlnet_preprocessors && python install.py\n",
        "\n",
        "\n",
        "# GLIGEN\n",
        "#!wget -c https://huggingface.co/comfyanonymous/GLIGEN_pruned_safetensors/resolve/main/gligen_sd14_textbox_pruned_fp16.safetensors -P ./models/gligen/\n",
        "\n",
        "\n",
        "# ESRGAN upscale model\n",
        "#!wget -c https://github.com/xinntao/Real-ESRGAN/releases/download/v0.1.0/RealESRGAN_x4plus.pth -P ./models/upscale_models/\n",
        "#!wget -c https://huggingface.co/sberbank-ai/Real-ESRGAN/resolve/main/RealESRGAN_x2.pth -P ./models/upscale_models/\n",
        "#!wget -c https://huggingface.co/sberbank-ai/Real-ESRGAN/resolve/main/RealESRGAN_x4.pth -P ./models/upscale_models/\n",
        "\n",
        "\n"
      ]
    },
    {
      "cell_type": "markdown",
      "metadata": {
        "id": "kkkkkkkkkkkkkkk"
      },
      "source": [
        "### Run ComfyUI with cloudflared (Recommended Way)\n",
        "\n",
        "\n"
      ]
    },
    {
      "cell_type": "code",
      "execution_count": null,
      "metadata": {
        "id": "jjjjjjjjjjjjjj"
      },
      "outputs": [],
      "source": [
        "!wget https://github.com/cloudflare/cloudflared/releases/latest/download/cloudflared-linux-amd64.deb\n",
        "!dpkg -i cloudflared-linux-amd64.deb\n",
        "\n",
        "import subprocess\n",
        "import threading\n",
        "import time\n",
        "import socket\n",
        "import urllib.request\n",
        "\n",
        "def iframe_thread(port):\n",
        "  while True:\n",
        "      time.sleep(0.5)\n",
        "      sock = socket.socket(socket.AF_INET, socket.SOCK_STREAM)\n",
        "      result = sock.connect_ex(('127.0.0.1', port))\n",
        "      if result == 0:\n",
        "        break\n",
        "      sock.close()\n",
        "  print(\"\\nComfyUI finished loading, trying to launch cloudflared (if it gets stuck here cloudflared is having issues)\\n\")\n",
        "\n",
        "  p = subprocess.Popen([\"cloudflared\", \"tunnel\", \"--url\", \"http://127.0.0.1:{}\".format(port)], stdout=subprocess.PIPE, stderr=subprocess.PIPE)\n",
        "  for line in p.stderr:\n",
        "    l = line.decode()\n",
        "    if \"trycloudflare.com \" in l:\n",
        "      print(\"This is the URL to access ComfyUI:\", l[l.find(\"http\"):], end='')\n",
        "    #print(l, end='')\n",
        "\n",
        "\n",
        "threading.Thread(target=iframe_thread, daemon=True, args=(8188,)).start()\n",
        "\n",
        "!python main.py --dont-print-server"
      ]
    },
    {
      "cell_type": "markdown",
      "metadata": {
        "id": "kkkkkkkkkkkkkk"
      },
      "source": [
        "### Run ComfyUI with localtunnel\n",
        "\n",
        "\n"
      ]
    },
    {
      "cell_type": "code",
      "execution_count": null,
      "metadata": {
        "id": "jjjjjjjjjjjjj"
      },
      "outputs": [],
      "source": [
        "!npm install -g localtunnel\n",
        "\n",
        "import subprocess\n",
        "import threading\n",
        "import time\n",
        "import socket\n",
        "import urllib.request\n",
        "\n",
        "def iframe_thread(port):\n",
        "  while True:\n",
        "      time.sleep(0.5)\n",
        "      sock = socket.socket(socket.AF_INET, socket.SOCK_STREAM)\n",
        "      result = sock.connect_ex(('127.0.0.1', port))\n",
        "      if result == 0:\n",
        "        break\n",
        "      sock.close()\n",
        "  print(\"\\nComfyUI finished loading, trying to launch localtunnel (if it gets stuck here localtunnel is having issues)\\n\")\n",
        "\n",
        "  print(\"The password/enpoint ip for localtunnel is:\", urllib.request.urlopen('https://ipv4.icanhazip.com').read().decode('utf8').strip(\"\\n\"))\n",
        "  p = subprocess.Popen([\"lt\", \"--port\", \"{}\".format(port)], stdout=subprocess.PIPE)\n",
        "  for line in p.stdout:\n",
        "    print(line.decode(), end='')\n",
        "\n",
        "\n",
        "threading.Thread(target=iframe_thread, daemon=True, args=(8188,)).start()\n",
        "\n",
        "!python main.py --dont-print-server"
      ]
    },
    {
      "cell_type": "markdown",
      "metadata": {
        "id": "gggggggggg"
      },
      "source": [
        "### Run ComfyUI with colab iframe (use only in case the previous way with localtunnel doesn't work)\n",
        "\n",
        "You should see the ui appear in an iframe. If you get a 403 error, it's your firefox settings or an extension that's messing things up.\n",
        "\n",
        "If you want to open it in another window use the link.\n",
        "\n",
        "Note that some UI features like live image previews won't work because the colab iframe blocks websockets."
      ]
    },
    {
      "cell_type": "code",
      "execution_count": null,
      "metadata": {
        "id": "hhhhhhhhhh"
      },
      "outputs": [],
      "source": [
        "import threading\n",
        "import time\n",
        "import socket\n",
        "def iframe_thread(port):\n",
        "  while True:\n",
        "      time.sleep(0.5)\n",
        "      sock = socket.socket(socket.AF_INET, socket.SOCK_STREAM)\n",
        "      result = sock.connect_ex(('127.0.0.1', port))\n",
        "      if result == 0:\n",
        "        break\n",
        "      sock.close()\n",
        "  from google.colab import output\n",
        "  output.serve_kernel_port_as_iframe(port, height=1024)\n",
        "  print(\"to open it in a window you can open this link here:\")\n",
        "  output.serve_kernel_port_as_window(port)\n",
        "\n",
        "threading.Thread(target=iframe_thread, daemon=True, args=(8188,)).start()\n",
        "\n",
        "!python main.py --dont-print-server"
      ]
    }
  ],
  "metadata": {
    "colab": {
      "provenance": []
    },
    "kernelspec": {
      "display_name": "Python 3",
      "name": "python3"
    },
    "language_info": {
      "name": "python"
    }
  },
  "nbformat": 4,
  "nbformat_minor": 0
}